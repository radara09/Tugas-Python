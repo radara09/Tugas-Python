{
  "nbformat": 4,
  "nbformat_minor": 0,
  "metadata": {
    "colab": {
      "name": "Tugas M12 Python.ipynb",
      "provenance": [],
      "collapsed_sections": [],
      "authorship_tag": "ABX9TyOuXDVtQGUvtDxK/58nG/uU",
      "include_colab_link": true
    },
    "kernelspec": {
      "name": "python3",
      "display_name": "Python 3"
    }
  },
  "cells": [
    {
      "cell_type": "markdown",
      "metadata": {
        "id": "view-in-github",
        "colab_type": "text"
      },
      "source": [
        "<a href=\"https://colab.research.google.com/github/radara09/Tugas-Python/blob/main/Tugas_M12_Python.ipynb\" target=\"_parent\"><img src=\"https://colab.research.google.com/assets/colab-badge.svg\" alt=\"Open In Colab\"/></a>"
      ]
    },
    {
      "cell_type": "markdown",
      "metadata": {
        "id": "xstXLP7FQmK4"
      },
      "source": [
        "RAHMAT HIDAYAT F - 1101194238"
      ]
    },
    {
      "cell_type": "code",
      "metadata": {
        "id": "5bXx7Z0VQsit"
      },
      "source": [
        "import numpy as np"
      ],
      "execution_count": 2,
      "outputs": []
    },
    {
      "cell_type": "code",
      "metadata": {
        "colab": {
          "base_uri": "https://localhost:8080/"
        },
        "id": "sJ54NptGQ4km",
        "outputId": "00891d1b-95aa-4c39-b45f-068ef6c79aec"
      },
      "source": [
        "#daftar input\r\n",
        "\r\n",
        "fc = int(input(\"Frekuensi (150-2000 MHz) : \"))\r\n",
        "hT = int(input(\"Tinggi Antena Pengirim (30-200 m) : \"))\r\n",
        "hR = int(input(\"Tinggi Antena Penerima (1-30 m) : \"))\r\n",
        "d = int(input(\"Jarak antara pengirim dan penerima (km) : \"))\r\n",
        "ta = (input(\"Tipe Area (urban, suburban, open :\" ))\r\n"
      ],
      "execution_count": 12,
      "outputs": [
        {
          "output_type": "stream",
          "text": [
            "Frekuensi (150-2000 MHz) : 1000\n",
            "Tinggi Antena Pengirim (30-200 m) : 50\n",
            "Tinggi Antena Penerima (1-30 m) : 15\n",
            "Jarak antara pengirim dan penerima (km) : 10\n",
            "Tipe Area (urban, suburban, open :urban\n"
          ],
          "name": "stdout"
        }
      ]
    },
    {
      "cell_type": "code",
      "metadata": {
        "id": "45haGTpNTcTt"
      },
      "source": [
        "if ta == \"urban\" :\r\n",
        "  cm = 0\r\n",
        "elif ta == \"suburban\" :\r\n",
        "  cm = -2*(np.log(fc/28)**2)-5.4\r\n",
        "elif ta == \"open\" :\r\n",
        "  cm = -4.78*(np.log(fc))**2+18.33*np.log(fc)-40.94\r\n",
        "else :\r\n",
        "  print(\"Tipe Area Tidak Ada\")\r\n",
        "  cm = -9999999"
      ],
      "execution_count": 13,
      "outputs": []
    },
    {
      "cell_type": "code",
      "metadata": {
        "id": "_L9fXx2gU1P7"
      },
      "source": [
        "if fc<150 or fc>2000 :\r\n",
        "  print(\"Tidak dapat dicapai\")\r\n",
        "  fc = 0"
      ],
      "execution_count": 14,
      "outputs": []
    },
    {
      "cell_type": "code",
      "metadata": {
        "id": "29Z41W8AVJ3L"
      },
      "source": [
        "if hT<30 or hT>2000 :\r\n",
        "  print(\"Tidak dapat dicapai\")\r\n",
        "  hT = 0\r\n",
        "elif hR<1 or hR>30 :\r\n",
        "  print(\"Tidak dapat dicapai\")\r\n",
        "  hT = 0"
      ],
      "execution_count": 15,
      "outputs": []
    },
    {
      "cell_type": "code",
      "metadata": {
        "id": "MlvgVmngVp-W"
      },
      "source": [
        "if fc >= 400 or fc <= 1500:\r\n",
        "  c1 = 69.55\r\n",
        "  c2 = 26.16\r\n",
        "elif fc > 1500 or fc <= 2000:\r\n",
        "  c1 = 46.3\r\n",
        "  c2 = 33.9\r\n",
        "else:\r\n",
        "  c1 = 0\r\n",
        "  c2 = 0"
      ],
      "execution_count": 16,
      "outputs": []
    },
    {
      "cell_type": "code",
      "metadata": {
        "id": "tC1ubdrlWZc3"
      },
      "source": [
        "ahR = (1.1*np.log(fc)-0.7)*hR - (1.56*np.log(fc)-0.8)"
      ],
      "execution_count": 17,
      "outputs": []
    },
    {
      "cell_type": "code",
      "metadata": {
        "id": "HL9-uUliWirQ"
      },
      "source": [
        "def pathloss():\r\n",
        "  lp = c1+c2*np.log(fc)-13.83*np.log(hT)-ahR+(44.9-6.55*np.log(hT))*np.log(d)+cm\r\n",
        "  print(\"Pathloss: \",lp,\" dB\")"
      ],
      "execution_count": 18,
      "outputs": []
    },
    {
      "cell_type": "code",
      "metadata": {
        "colab": {
          "base_uri": "https://localhost:8080/"
        },
        "id": "5Z9mj39PWu1P",
        "outputId": "606d2127-b3a8-4023-dab8-7b59ac49918d"
      },
      "source": [
        "pathloss()"
      ],
      "execution_count": 19,
      "outputs": [
        {
          "output_type": "stream",
          "text": [
            "Pathloss:  147.03694038538754  dB\n"
          ],
          "name": "stdout"
        }
      ]
    },
    {
      "cell_type": "code",
      "metadata": {
        "id": "4uXsJwA7Wwxq"
      },
      "source": [
        ""
      ],
      "execution_count": null,
      "outputs": []
    }
  ]
}